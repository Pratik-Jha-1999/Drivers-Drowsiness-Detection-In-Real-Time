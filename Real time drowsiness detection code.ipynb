{
 "cells": [
  {
   "cell_type": "markdown",
   "id": "c7833a4d",
   "metadata": {},
   "source": [
    "# Importing the required libraries\n"
   ]
  },
  {
   "cell_type": "code",
   "execution_count": null,
   "id": "5efaae94",
   "metadata": {},
   "outputs": [],
   "source": [
    "import cv2\n",
    "import numpy as np\n",
    "import dlib                       # For detecting face in the camera and puting facial landmarks on it \n",
    "from imutils import face_utils"
   ]
  },
  {
   "cell_type": "markdown",
   "id": "36f32395",
   "metadata": {},
   "source": [
    " # Grabing the video camera input in a variable "
   ]
  },
  {
   "cell_type": "code",
   "execution_count": 6,
   "id": "84b4013a",
   "metadata": {},
   "outputs": [],
   "source": [
    "cap=cv2.VideoCapture(0)         "
   ]
  },
  {
   "cell_type": "markdown",
   "id": "d345202f",
   "metadata": {},
   "source": [
    "# Detecting face in the image and puting 68 facial landmarks on it"
   ]
  },
  {
   "cell_type": "code",
   "execution_count": 7,
   "id": "d562f291",
   "metadata": {},
   "outputs": [],
   "source": [
    "detector = dlib.get_frontal_face_detector()\n",
    "predictor = dlib.shape_predictor(\"shape_predictor_68_face_landmarks.dat\")"
   ]
  },
  {
   "cell_type": "markdown",
   "id": "e614abab",
   "metadata": {},
   "source": [
    " # Algorithm to calculate the drowsiness by computing the gap between the eye landmarks"
   ]
  },
  {
   "cell_type": "code",
   "execution_count": 8,
   "id": "ed4336f6",
   "metadata": {},
   "outputs": [],
   "source": [
    "sleep=0\n",
    "drowsy=0\n",
    "active=0\n",
    "status=\"hey\"\n",
    "color=(0,0,0)\n",
    "\n",
    "def empty(a):\n",
    "    pass\n",
    "\n",
    "\n",
    "def compute(ptA,ptB):\n",
    "    dist = np.linalg.norm(ptA-ptB)\n",
    "    return dist\n",
    "\n",
    "\n",
    "def blinked(a,b,c,d,e,f):\n",
    "    up=compute(b,d)+compute(c,e)\n",
    "    down=compute(a,f)\n",
    "    ratio=up/(2.0*down)\n",
    "    \n",
    "    if(ratio>0.25):\n",
    "        return 2\n",
    "    elif(ratio>0.21 and ratio<=0.25):\n",
    "        return 1\n",
    "    else:\n",
    "        return 0\n"
   ]
  },
  {
   "cell_type": "markdown",
   "id": "33e57258",
   "metadata": {},
   "source": [
    "# Calculating the drowsiness in the real time"
   ]
  },
  {
   "cell_type": "code",
   "execution_count": 5,
   "id": "7a93fbf2",
   "metadata": {},
   "outputs": [],
   "source": [
    "\n",
    "while True:\n",
    "    _,frame =cap.read()\n",
    "    gray = cv2.cvtColor(frame,cv2.COLOR_BGR2GRAY)\n",
    "    faces= detector(gray)\n",
    "\n",
    "    for face in faces:\n",
    "        x1=face.left()\n",
    "        y1=face.top()\n",
    "        x2=face.right()\n",
    "        y2=face.bottom()\n",
    "        \n",
    "        face_frame=frame.copy()\n",
    "        cv2.rectangle(face_frame, (x1,y1),(x2,y2),(0,255,0),2)\n",
    "        \n",
    "        landmarks= predictor(gray, face)\n",
    "        landmarks= face_utils.shape_to_np(landmarks)\n",
    "        \n",
    "        left_blink= blinked(landmarks[36],landmarks[37],\n",
    "                            landmarks[38],landmarks[41],\n",
    "                            landmarks[40],landmarks[39])\n",
    "        right_blink= blinked(landmarks[42],landmarks[43],\n",
    "                            landmarks[44],landmarks[47],\n",
    "                            landmarks[46],landmarks[45])\n",
    "\n",
    "        if(left_blink==0 or right_blink==0):\n",
    "            sleep+=1\n",
    "            drowsy=0\n",
    "            active=0\n",
    "            if(sleep>8):\n",
    "                status=\"SLEEPING OMG!!!\"\n",
    "                color=(255,0,0)\n",
    "            \n",
    "        elif(left_blink==1 or right_blink==1):\n",
    "            sleep=0\n",
    "            drowsy+=1\n",
    "            active=0\n",
    "            if(drowsy>8):\n",
    "                status=\"Drowsy !\"\n",
    "                color=(0,0,255)\n",
    "\n",
    "        else:\n",
    "            drowsy=0\n",
    "            sleep=0\n",
    "            active+=1\n",
    "            if(active>8):\n",
    "                status=\"Active boi\"\n",
    "                color=(0,255,0)\n",
    "\n",
    "        cv2.putText(frame,status,(100,100), cv2.FONT_HERSHEY_SIMPLEX,1.2,color,3)                \n",
    "\n",
    "        for n in range(0,68):\n",
    "            (x,y)=landmarks[n]\n",
    "            cv2.circle(face_frame,(x,y),1,(255,255,255),-1)\n",
    "            \n",
    "    cv2.imshow(\"Frame\", frame)\n",
    "    cv2.imshow(\"Result of detector\", face_frame)\n",
    "    if cv2.waitKey(4) & 0xFF==ord('q'):\n",
    "        break\n",
    "                  "
   ]
  },
  {
   "cell_type": "markdown",
   "id": "de21e0e7",
   "metadata": {},
   "source": [
    "# Releasing the camera and closing all the windows"
   ]
  },
  {
   "cell_type": "code",
   "execution_count": null,
   "id": "ddd31efe",
   "metadata": {},
   "outputs": [],
   "source": [
    "cv2.destroyAllWindows()\n",
    "cap=cv2.VideoCapture()\n",
    "  "
   ]
  }
 ],
 "metadata": {
  "kernelspec": {
   "display_name": "Python 3",
   "language": "python",
   "name": "python3"
  },
  "language_info": {
   "codemirror_mode": {
    "name": "ipython",
    "version": 3
   },
   "file_extension": ".py",
   "mimetype": "text/x-python",
   "name": "python",
   "nbconvert_exporter": "python",
   "pygments_lexer": "ipython3",
   "version": "3.7.10"
  }
 },
 "nbformat": 4,
 "nbformat_minor": 5
}
